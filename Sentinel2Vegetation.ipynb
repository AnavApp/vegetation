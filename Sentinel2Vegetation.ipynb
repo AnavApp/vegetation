{
 "cells": [
  {
   "cell_type": "code",
   "execution_count": 16,
   "id": "5abf264a",
   "metadata": {},
   "outputs": [],
   "source": [
    "import geemap\n",
    "import ee"
   ]
  },
  {
   "cell_type": "code",
   "execution_count": 31,
   "id": "cb5f05e4",
   "metadata": {},
   "outputs": [
    {
     "data": {
      "application/vnd.jupyter.widget-view+json": {
       "model_id": "42c19c0724e348a69b38482e96e485a1",
       "version_major": 2,
       "version_minor": 0
      },
      "text/plain": [
       "Map(center=[-3.448674, -78.930048], controls=(WidgetControl(options=['position', 'transparent_bg'], widget=HBo…"
      ]
     },
     "metadata": {},
     "output_type": "display_data"
    }
   ],
   "source": [
    "Map = geemap.Map(center=[40,-100], zoom = 4)\n",
    "Map\n",
    "\n",
    "MapLandSat = geemap.Map(center=[-3.448674, -78.930048], zoom = 8)\n",
    "MapLandSat"
   ]
  },
  {
   "cell_type": "code",
   "execution_count": 18,
   "id": "74edf7df",
   "metadata": {},
   "outputs": [
    {
     "data": {
      "text/plain": [
       "'\\nMap.add_basemap(\"SATELLITE\")\\nMap.add_basemap(\"ROADMAP\")\\nMap.add_basemap(\"TERRAIN\")\\nMap.add_basemap(\"HYBRID\")\\n'"
      ]
     },
     "execution_count": 18,
     "metadata": {},
     "output_type": "execute_result"
    }
   ],
   "source": [
    "'''\n",
    "Map.add_basemap(\"SATELLITE\")\n",
    "Map.add_basemap(\"ROADMAP\")\n",
    "Map.add_basemap(\"TERRAIN\")\n",
    "Map.add_basemap(\"HYBRID\")\n",
    "'''"
   ]
  },
  {
   "cell_type": "code",
   "execution_count": 19,
   "id": "1ceb7ef2",
   "metadata": {},
   "outputs": [
    {
     "data": {
      "application/vnd.jupyter.widget-view+json": {
       "model_id": "019f07c46d9440b1ae90eea4f99d69f3",
       "version_major": 2,
       "version_minor": 0
      },
      "text/plain": [
       "Map(center=[40, -100], controls=(WidgetControl(options=['position', 'transparent_bg'], widget=HBox(children=(T…"
      ]
     },
     "metadata": {},
     "output_type": "display_data"
    }
   ],
   "source": [
    "# Add Earth Engine dataset\n",
    "dem = ee.Image('USGS/SRTMGL1_003')\n",
    "landcover = ee.Image(\"ESA/GLOBCOVER_L4_200901_200912_V2_3\").select('landcover')\n",
    "sentinel2 = ee.ImageCollection('COPERNICUS/S2').select(['B4', 'B3', 'B2', 'B8', 'B11', 'B12'])  # Select desired bands\n",
    "#sentinel2 = ee.ImageCollection('COPERNICUS/S2').filterDate('2023-01-01', '2023-01-31').median().select(['B4', 'B3', 'B2', 'B8', 'B11', 'B12'])  # Select desired bands\n",
    "states = ee.FeatureCollection(\"TIGER/2018/States\")\n",
    "\n",
    "# Set visualization parameters.\n",
    "vis_params = {\n",
    "    'min': 0,\n",
    "    'max': 4000,\n",
    "    'palette': ['006633', 'E5FFCC', '662A00', 'D8D8D8', 'F5F5F5'],\n",
    "}\n",
    "\n",
    "# Add Earth Engine layers to Map\n",
    "#Map.addLayer(dem, vis_params, 'SRTM DEM', True, 0.5)\n",
    "#Map.addLayer(landcover, {}, 'Land cover')\n",
    "Map.addLayer(\n",
    "    sentinel2,\n",
    "    {'bands': ['B4', 'B3', 'B2'], 'min': 0, 'max': 3000, 'gamma': 1.4},  # Adjust visualization parameters\n",
    "    'Sentinel-2',\n",
    ")\n",
    "Map.addLayer(states, {}, \"US States\")\n",
    "\n",
    "Map\n"
   ]
  },
  {
   "cell_type": "code",
   "execution_count": 32,
   "id": "0641e0d7",
   "metadata": {},
   "outputs": [
    {
     "data": {
      "application/vnd.jupyter.widget-view+json": {
       "model_id": "42c19c0724e348a69b38482e96e485a1",
       "version_major": 2,
       "version_minor": 0
      },
      "text/plain": [
       "Map(bottom=33696.0, center=[-3.448674, -78.930048], controls=(WidgetControl(options=['position', 'transparent_…"
      ]
     },
     "metadata": {},
     "output_type": "display_data"
    }
   ],
   "source": [
    "'''\n",
    "Band\tResolution\tCentral Wavelength\tDescription\n",
    "B1\t60 m\t443 nm\tUltra Blue (Coastal and Aerosol)\n",
    "B2\t10 m\t490 nm\tBlue\n",
    "B3\t10 m\t560 nm\tGreen\n",
    "B4\t10 m\t665 nm\tRed\n",
    "B5\t20 m\t705 nm\tVisible and Near Infrared (VNIR)\n",
    "B6\t20 m\t740 nm\tVisible and Near Infrared (VNIR)\n",
    "B7\t20 m\t783 nm\tVisible and Near Infrared (VNIR)\n",
    "B8\t10 m\t842 nm\tVisible and Near Infrared (VNIR)\n",
    "B8a\t20 m\t865 nm\tVisible and Near Infrared (VNIR)\n",
    "B9\t60 m\t940 nm\tShort Wave Infrared (SWIR)\n",
    "B10\t60 m\t1375 nm\tShort Wave Infrared (SWIR)\n",
    "B11\t20 m\t1610 nm\tShort Wave Infrared (SWIR)\n",
    "B12\t20 m\t2190 nm\tShort Wave Infrared (SWIR)\n",
    "'''\n",
    "\n",
    "# Add Earth Engine dataset\n",
    "dem = ee.Image('USGS/SRTMGL1_003')\n",
    "landcover = ee.Image(\"ESA/GLOBCOVER_L4_200901_200912_V2_3\").select('landcover')\n",
    "landsat7 = ee.Image('LE7_TOA_5YEAR/1999_2003')\n",
    "sentinel2 = ee.ImageCollection('COPERNICUS/S2').filterDate('2022-05-01', '2022-07-31').median() \\\n",
    "    .select(['B4', 'B3', 'B2', 'B8', 'B11', 'B12'])  # Select desired bands\n",
    "states = ee.FeatureCollection(\"TIGER/2018/States\")\n",
    "\n",
    "# Set visualization parameters.\n",
    "vis_params = {\n",
    "    'min': 0,\n",
    "    'max': 4000,\n",
    "    'palette': ['006633', 'E5FFCC', '662A00', 'D8D8D8', 'F5F5F5'],\n",
    "}\n",
    "\n",
    "# Add Earth Engine layers to Map\n",
    "#Map.addLayer(dem, vis_params, 'SRTM DEM', True, 0.5)\n",
    "#Map.addLayer(landcover, {}, 'Land cover')\n",
    "MapLandSat.addLayer(\n",
    "    sentinel2,\n",
    "    {'bands': ['B11','B8','B2'], 'min': 0, 'max': 3000, 'gamma': 0.5},  # Adjust visualization parameters\n",
    "    'Sentinel-2',\n",
    ")\n",
    "MapLandSat.add_basemap(\"SATELLITE\")\n",
    "\n",
    "#MapLandSat.addLayer(landsat7, {'bands':['B4'], 'min': 20, 'max': 200}, \"Landsat 7\")\n",
    "#Map.addLayer(states, {}, \"US States\")\n",
    "MapLandSat\n"
   ]
  },
  {
   "cell_type": "code",
   "execution_count": null,
   "id": "a43e6f91",
   "metadata": {},
   "outputs": [],
   "source": []
  },
  {
   "cell_type": "code",
   "execution_count": null,
   "id": "6a8c5641",
   "metadata": {},
   "outputs": [],
   "source": []
  }
 ],
 "metadata": {
  "kernelspec": {
   "display_name": "Python 3 (ipykernel)",
   "language": "python",
   "name": "python3"
  },
  "language_info": {
   "codemirror_mode": {
    "name": "ipython",
    "version": 3
   },
   "file_extension": ".py",
   "mimetype": "text/x-python",
   "name": "python",
   "nbconvert_exporter": "python",
   "pygments_lexer": "ipython3",
   "version": "3.9.13"
  }
 },
 "nbformat": 4,
 "nbformat_minor": 5
}
